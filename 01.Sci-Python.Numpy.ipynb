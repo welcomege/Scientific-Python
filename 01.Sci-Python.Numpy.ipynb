{
 "cells": [
  {
   "cell_type": "markdown",
   "metadata": {},
   "source": [
    "In the last few years, I was first working with Python and Matlab, but switched to R due to the workload to do large scale data analysis. During 2007-2009, I re-visited Python with Rpy and Ppy2 packages which an interface to R running embedded in a Python process. The integration is not so smooth. \n",
    "\n",
    "Nowdays, with the introduction of Numpy, Scipy, Matplotlib and Pandas, Python can almost replace the expensive Matlab software for large scale data analysis. I think it might be helpful to share my notes. "
   ]
  },
  {
   "cell_type": "markdown",
   "metadata": {},
   "source": [
    "## Numpy"
   ]
  },
  {
   "cell_type": "code",
   "execution_count": 5,
   "metadata": {},
   "outputs": [
    {
     "name": "stdout",
     "output_type": "stream",
     "text": [
      "[1 2 3 4 5 6]\n"
     ]
    }
   ],
   "source": [
    "import numpy as np\n",
    "x = np.array([1, 2, 3, 4, 5, 6])\n",
    "print(x)"
   ]
  },
  {
   "cell_type": "code",
   "execution_count": 6,
   "metadata": {},
   "outputs": [
    {
     "name": "stdout",
     "output_type": "stream",
     "text": [
      "[ 1.   1.5  2.   2.5  3.   3.5]\n"
     ]
    }
   ],
   "source": [
    "print(x / 2.0 + 0.5)"
   ]
  },
  {
   "cell_type": "markdown",
   "metadata": {},
   "source": [
    "Without the Numpy library, the \"barebone\" Python will have to run this using [ x / 2.0 + 0.5 for x in data]. Numpy library is easier for people who have experience in Matlab and R for data analysis. Here are some other commonly used tips:"
   ]
  },
  {
   "cell_type": "code",
   "execution_count": 9,
   "metadata": {},
   "outputs": [
    {
     "name": "stdout",
     "output_type": "stream",
     "text": [
      "[1 2 3 4 5 6]\n",
      "[1 3 5]\n"
     ]
    }
   ],
   "source": [
    "x1 = np.arange(1, 7)\n",
    "x2 = np.arange(1, 7, 2)\n",
    "print(x1)\n",
    "print(x2)"
   ]
  },
  {
   "cell_type": "code",
   "execution_count": 15,
   "metadata": {},
   "outputs": [
    {
     "name": "stdout",
     "output_type": "stream",
     "text": [
      "[[1 2 3]\n",
      " [4 5 6]]\n",
      "2\n"
     ]
    },
    {
     "data": {
      "text/plain": [
       "(2, 3)"
      ]
     },
     "execution_count": 15,
     "metadata": {},
     "output_type": "execute_result"
    }
   ],
   "source": [
    "x3 = x1.reshape(2, 3)\n",
    "print(x3)\n",
    "print(x3.ndim)    # number of dimension\n",
    "np.shape(x3)"
   ]
  },
  {
   "cell_type": "code",
   "execution_count": 16,
   "metadata": {},
   "outputs": [
    {
     "name": "stdout",
     "output_type": "stream",
     "text": [
      "[[1 2 3]\n",
      " [4 5 6]\n",
      " [1 2 3]\n",
      " [4 5 6]]\n"
     ]
    }
   ],
   "source": [
    "x4 = np.vstack((x3, x3)) # be careful about the parenthesis inside the fucntion parenthesis\n",
    "print(x4)"
   ]
  },
  {
   "cell_type": "code",
   "execution_count": 21,
   "metadata": {},
   "outputs": [
    {
     "name": "stdout",
     "output_type": "stream",
     "text": [
      "[[4 5]\n",
      " [1 2]\n",
      " [4 5]]\n"
     ]
    }
   ],
   "source": [
    "x5 = x4[1:,:2]   # note, it is array start with the startIndex and end with endIndex-1 (does not include endIndex)\n",
    "print(x5)  "
   ]
  },
  {
   "cell_type": "markdown",
   "metadata": {},
   "source": [
    "There is an important aspect of the data object in Numpy. Slicing and reshape data object can be used to create a new data object, but the new object is sharing the same memory. Changing data point in x5 above will change data in x4 too. It can be checked using np.may_share_memory(A, B) function."
   ]
  },
  {
   "cell_type": "code",
   "execution_count": 24,
   "metadata": {},
   "outputs": [
    {
     "name": "stdout",
     "output_type": "stream",
     "text": [
      "[[99  5]\n",
      " [ 1  2]\n",
      " [ 4  5]]\n",
      "[[ 1  2  3]\n",
      " [99  5  6]\n",
      " [ 1  2  3]\n",
      " [ 4  5  6]]\n"
     ]
    },
    {
     "data": {
      "text/plain": [
       "True"
      ]
     },
     "execution_count": 24,
     "metadata": {},
     "output_type": "execute_result"
    }
   ],
   "source": [
    "x5[0, 0] = 99\n",
    "print(x5)\n",
    "print(x4)\n",
    "np.may_share_memory(x4, x5)"
   ]
  },
  {
   "cell_type": "code",
   "execution_count": 27,
   "metadata": {},
   "outputs": [
    {
     "name": "stdout",
     "output_type": "stream",
     "text": [
      "[[ 1  2  3 99]\n",
      " [ 5  6 88  2]\n",
      " [ 3  4  5 88]]\n",
      "[[ 1  2  3 99]\n",
      " [ 5  6 88  2]\n",
      " [ 3  4  5 88]]\n",
      "[[ 1  2  3]\n",
      " [99  5  6]\n",
      " [88  2  3]\n",
      " [ 4  5 88]]\n",
      "[[99  5]\n",
      " [88  2]\n",
      " [ 4  5]]\n"
     ]
    }
   ],
   "source": [
    "x6 = x4.reshape(3, 4)\n",
    "print(x6)\n",
    "x6[1, 2]=88\n",
    "print(x6)\n",
    "print(x4)\n",
    "print(x5)"
   ]
  },
  {
   "cell_type": "markdown",
   "metadata": {},
   "source": [
    "While direct assigning data object will share memory, user can use dataObject.copy() to avoid sharing the same memory."
   ]
  },
  {
   "cell_type": "code",
   "execution_count": 29,
   "metadata": {},
   "outputs": [
    {
     "name": "stdout",
     "output_type": "stream",
     "text": [
      "[[2 3 4]\n",
      " [5 6 7]]\n",
      "[[99  3  4]\n",
      " [ 5  6  7]]\n"
     ]
    }
   ],
   "source": [
    "x7 = np.array([[2,3,4],[5,6,7]], order='F')\n",
    "x8 = x7.copy()\n",
    "x8[0,0] = 99\n",
    "print(x7)\n",
    "print(x8)"
   ]
  },
  {
   "cell_type": "markdown",
   "metadata": {},
   "source": [
    "Some other functions such as np.zeros, np.eye, np.ones are also commonly used in analysis.\n",
    "Numpy is the basis for scientific computing."
   ]
  }
 ],
 "metadata": {
  "kernelspec": {
   "display_name": "Python 3",
   "language": "python",
   "name": "python3"
  },
  "language_info": {
   "codemirror_mode": {
    "name": "ipython",
    "version": 3
   },
   "file_extension": ".py",
   "mimetype": "text/x-python",
   "name": "python",
   "nbconvert_exporter": "python",
   "pygments_lexer": "ipython3",
   "version": "3.6.1"
  }
 },
 "nbformat": 4,
 "nbformat_minor": 2
}
